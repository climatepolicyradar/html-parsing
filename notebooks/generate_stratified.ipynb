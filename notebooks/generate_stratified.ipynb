{
 "cells": [
  {
   "cell_type": "code",
   "execution_count": 3,
   "outputs": [
    {
     "name": "stdout",
     "output_type": "stream",
     "text": [
      "Requirement already satisfied: PyPDF2 in ./anaconda3/envs/nbenv/lib/python3.10/site-packages (3.0.1)\r\n"
     ]
    }
   ],
   "source": [
    "!pip install PyPDF2"
   ],
   "metadata": {
    "collapsed": false,
    "pycharm": {
     "name": "#%%\n"
    }
   }
  },
  {
   "cell_type": "code",
   "execution_count": 3,
   "outputs": [
    {
     "ename": "ModuleNotFoundError",
     "evalue": "No module named 'PyPDF2'",
     "output_type": "error",
     "traceback": [
      "\u001b[0;31m---------------------------------------------------------------------------\u001b[0m",
      "\u001b[0;31mModuleNotFoundError\u001b[0m                       Traceback (most recent call last)",
      "Cell \u001b[0;32mIn [3], line 3\u001b[0m\n\u001b[1;32m      1\u001b[0m \u001b[38;5;28;01mimport\u001b[39;00m \u001b[38;5;21;01mos\u001b[39;00m\n\u001b[1;32m      2\u001b[0m \u001b[38;5;28;01mimport\u001b[39;00m \u001b[38;5;21;01mrandom\u001b[39;00m\n\u001b[0;32m----> 3\u001b[0m \u001b[38;5;28;01mimport\u001b[39;00m \u001b[38;5;21;01mPyPDF2\u001b[39;00m\n\u001b[1;32m      4\u001b[0m \u001b[38;5;28;01mfrom\u001b[39;00m \u001b[38;5;21;01mcollections\u001b[39;00m \u001b[38;5;28;01mimport\u001b[39;00m defaultdict\n\u001b[1;32m      5\u001b[0m \u001b[38;5;28;01mfrom\u001b[39;00m \u001b[38;5;21;01mpdf2image\u001b[39;00m \u001b[38;5;28;01mimport\u001b[39;00m convert_from_path\n",
      "\u001b[0;31mModuleNotFoundError\u001b[0m: No module named 'PyPDF2'"
     ]
    }
   ],
   "source": [
    "import os\n",
    "import random\n",
    "import PyPDF2\n",
    "from collections import defaultdict\n",
    "from pdf2image import convert_from_path\n",
    "\n",
    "# Define directory containing the PDFs\n",
    "pdf_dir = \"/path/to/pdf/dir\"\n",
    "\n",
    "# Define the directory where the sampled pages will be saved\n",
    "output_dir = \"/path/to/output/dir\"\n",
    "\n",
    "# Define the number of samples you want to generate\n",
    "n = 100\n",
    "\n",
    "# Create a dictionary to hold the file sizes of each PDF\n",
    "pdf_sizes = defaultdict(int)\n",
    "\n",
    "# Loop through the PDFs in the directory and store their sizes in the dictionary\n",
    "for filename in os.listdir(pdf_dir):\n",
    "    if filename.endswith(\".pdf\"):\n",
    "        with open(os.path.join(pdf_dir, filename), \"rb\") as f:\n",
    "            pdf_reader = PyPDF2.PdfFileReader(f)\n",
    "            pdf_sizes[filename] = pdf_reader.getNumPages()\n",
    "\n",
    "# Calculate the total number of pages in all PDFs\n",
    "total_pages = sum(pdf_sizes.values())\n",
    "\n",
    "# Create a list of tuples where each tuple contains the name of a PDF and its weight (i.e., number of pages)\n",
    "pdf_weights = [(pdf, pdf_sizes[pdf]) for pdf in pdf_sizes]\n",
    "\n",
    "# Normalize the weights so that they add up to 1\n",
    "total_weight = sum(w for _, w in pdf_weights)\n",
    "pdf_weights = [(pdf, w / total_weight) for pdf, w in pdf_weights]\n",
    "\n",
    "# Sample n PDFs with replacement, weighted by their size\n",
    "sampled_pdfs = random.choices(\n",
    "    population=[pdf for pdf, _ in pdf_weights], weights=[w for _, w in pdf_weights], k=n\n",
    ")\n",
    "\n",
    "# For each sampled PDF, sample a page with replacement and save it as an image\n",
    "for i, pdf in enumerate(sampled_pdfs):\n",
    "    with open(os.path.join(pdf_dir, pdf), \"rb\") as f:\n",
    "        pdf_reader = PyPDF2.PdfFileReader(f)\n",
    "        page_num = random.randint(0, pdf_reader.getNumPages() - 1)\n",
    "        page_image = convert_from_path(\n",
    "            os.path.join(pdf_dir, pdf), first_page=page_num + 1, last_page=page_num + 1\n",
    "        )[0]\n",
    "        output_filename = f\"sample_{i+1}_{pdf}_page_{page_num}.jpg\"\n",
    "        page_image.save(os.path.join(output_dir, output_filename), \"JPEG\")"
   ],
   "metadata": {
    "collapsed": false,
    "pycharm": {
     "name": "#%%\n"
    }
   }
  },
  {
   "cell_type": "code",
   "execution_count": null,
   "outputs": [],
   "source": [],
   "metadata": {
    "collapsed": false,
    "pycharm": {
     "name": "#%%\n"
    }
   }
  }
 ],
 "metadata": {
  "kernelspec": {
   "display_name": "Python 3",
   "language": "python",
   "name": "python3"
  },
  "language_info": {
   "codemirror_mode": {
    "name": "ipython",
    "version": 2
   },
   "file_extension": ".py",
   "mimetype": "text/x-python",
   "name": "python",
   "nbconvert_exporter": "python",
   "pygments_lexer": "ipython2",
   "version": "2.7.6"
  }
 },
 "nbformat": 4,
 "nbformat_minor": 0
}