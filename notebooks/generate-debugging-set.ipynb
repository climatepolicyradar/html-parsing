{
 "cells": [
  {
   "cell_type": "code",
   "execution_count": 1,
   "outputs": [
    {
     "name": "stderr",
     "output_type": "stream",
     "text": [
      "/home/stefan/anaconda3/envs/testenv/lib/python3.10/site-packages/scipy/__init__.py:146: UserWarning: A NumPy version >=1.16.5 and <1.23.0 is required for this version of SciPy (detected version 1.23.1\n",
      "  warnings.warn(f\"A NumPy version >={np_minversion} and <{np_maxversion}\"\n"
     ]
    }
   ],
   "source": [
    "import glob\n",
    "import os\n",
    "import random\n",
    "from typing import List\n",
    "\n",
    "import fitz\n",
    "import layoutparser as lp\n",
    "import numpy as np\n",
    "import pandas as pd\n",
    "from IPython.display import display\n",
    "from fitz import EmptyFileError\n",
    "from sklearn.model_selection import train_test_split\n",
    "from collections import defaultdict"
   ],
   "metadata": {
    "collapsed": false
   }
  },
  {
   "cell_type": "markdown",
   "source": [
    "# Goal\n",
    "\n",
    "To create a stratified sample of PDFs from our corpus for visual debugging of the PDF processor"
   ],
   "metadata": {
    "collapsed": false
   }
  },
  {
   "cell_type": "markdown",
   "source": [
    "# Load data\n",
    "\n",
    "We want to load the data on PDF documents. We can get this from a SQL dump but I've put a csv for simplicity."
   ],
   "metadata": {
    "collapsed": false
   }
  },
  {
   "cell_type": "code",
   "execution_count": 2,
   "outputs": [],
   "source": [
    "df = pd.read_csv(\"query_results-2022-06-22_54044.csv\")"
   ],
   "metadata": {
    "collapsed": false
   }
  },
  {
   "cell_type": "code",
   "execution_count": 3,
   "outputs": [
    {
     "data": {
      "text/plain": "                      created_ts  updated_ts     id  created_by  updated_by  \\\n0  2022-05-26 14:49:59.154021+00         NaN  10166           1         NaN   \n1  2022-05-26 14:49:58.808038+00         NaN  10162           1         NaN   \n2  2022-05-26 14:49:59.234792+00         NaN  10167           1         NaN   \n3  2022-05-26 14:49:58.893536+00         NaN  10163           1         NaN   \n4  2022-05-26 14:49:59.323148+00         NaN  10168           1         NaN   \n\n                       loaded_ts  \\\n0  2022-05-25 17:26:01.064067+00   \n1   2022-05-25 17:26:34.43558+00   \n2  2022-05-25 17:26:01.049557+00   \n3  2022-05-25 17:26:00.999398+00   \n4  2022-05-25 17:26:41.837879+00   \n\n                                                name  \\\n0                                         Forest law   \n1  Law 26.639 on Minimum Standards for Preservati...   \n2                Law No. 12,114, of December 9, 2009   \n3  Act relating to minimum nominal nominal volume...   \n4  Law no. 90-AN-15-7th L establishing the legisl...   \n\n                                          source_url  source_id  \\\n0  https://www.lse.ac.uk/GranthamInstitute/wp-con...          1   \n1  https://climate-laws.org/rails/active_storage/...          1   \n2  https://www.lse.ac.uk/GranthamInstitute/wp-con...          1   \n3  https://www.lse.ac.uk/GranthamInstitute/wp-con...          1   \n4  https://climate-laws.org/rails/active_storage/...          1   \n\n                                                 url  geography_id  type_id  \\\n0  https://cpr-document-cache.s3.eu-west-2.amazon...            52        4   \n1  https://cpr-document-cache.s3.eu-west-2.amazon...            14       24   \n2  https://cpr-document-cache.s3.eu-west-2.amazon...            48       24   \n3  https://cpr-document-cache.s3.eu-west-2.amazon...            34       24   \n4  https://cpr-document-cache.s3.eu-west-2.amazon...            98       24   \n\n   category_id                                        description  \\\n0            1  \"\"The Act sets up a basic framework for the co...   \n1            1  This <a href=\"http://servicios.infoleg.gob.ar/...   \n2            1  NFCC resources may be directed to REDD+ projec...   \n3            1  The Act provides for companies that sell petro...   \n4            1  This law establishes a framework legal framewo...   \n\n                            md5_sum       publication_ts  geography  \\\n0  ab520523898c7b6e34c4890b60c84f4c  2017-01-01 00:00:00   Bulgaria   \n1  f8c4af20ef7f8c0cf46e4802a3a41e93  2010-10-28 00:00:00  Argentina   \n2  5faf1de60b28eb33f2b353beec778ea4  2009-01-01 00:00:00     Brazil   \n3  d342f40e7253aee03b6d920dd3341841  2013-01-01 00:00:00    Belgium   \n4  2df5fddee9f3eeef0b5f641997fa3262  2015-01-07 00:00:00   Djibouti   \n\n  doc_category doc_type document_language  \n0          Law      Act         Bulgarian  \n1          Law      Law           English  \n2          Law      Law        Portuguese  \n3          Law      Law            French  \n4          Law      Law           English  ",
      "text/html": "<div>\n<style scoped>\n    .dataframe tbody tr th:only-of-type {\n        vertical-align: middle;\n    }\n\n    .dataframe tbody tr th {\n        vertical-align: top;\n    }\n\n    .dataframe thead th {\n        text-align: right;\n    }\n</style>\n<table border=\"1\" class=\"dataframe\">\n  <thead>\n    <tr style=\"text-align: right;\">\n      <th></th>\n      <th>created_ts</th>\n      <th>updated_ts</th>\n      <th>id</th>\n      <th>created_by</th>\n      <th>updated_by</th>\n      <th>loaded_ts</th>\n      <th>name</th>\n      <th>source_url</th>\n      <th>source_id</th>\n      <th>url</th>\n      <th>geography_id</th>\n      <th>type_id</th>\n      <th>category_id</th>\n      <th>description</th>\n      <th>md5_sum</th>\n      <th>publication_ts</th>\n      <th>geography</th>\n      <th>doc_category</th>\n      <th>doc_type</th>\n      <th>document_language</th>\n    </tr>\n  </thead>\n  <tbody>\n    <tr>\n      <th>0</th>\n      <td>2022-05-26 14:49:59.154021+00</td>\n      <td>NaN</td>\n      <td>10166</td>\n      <td>1</td>\n      <td>NaN</td>\n      <td>2022-05-25 17:26:01.064067+00</td>\n      <td>Forest law</td>\n      <td>https://www.lse.ac.uk/GranthamInstitute/wp-con...</td>\n      <td>1</td>\n      <td>https://cpr-document-cache.s3.eu-west-2.amazon...</td>\n      <td>52</td>\n      <td>4</td>\n      <td>1</td>\n      <td>\"\"The Act sets up a basic framework for the co...</td>\n      <td>ab520523898c7b6e34c4890b60c84f4c</td>\n      <td>2017-01-01 00:00:00</td>\n      <td>Bulgaria</td>\n      <td>Law</td>\n      <td>Act</td>\n      <td>Bulgarian</td>\n    </tr>\n    <tr>\n      <th>1</th>\n      <td>2022-05-26 14:49:58.808038+00</td>\n      <td>NaN</td>\n      <td>10162</td>\n      <td>1</td>\n      <td>NaN</td>\n      <td>2022-05-25 17:26:34.43558+00</td>\n      <td>Law 26.639 on Minimum Standards for Preservati...</td>\n      <td>https://climate-laws.org/rails/active_storage/...</td>\n      <td>1</td>\n      <td>https://cpr-document-cache.s3.eu-west-2.amazon...</td>\n      <td>14</td>\n      <td>24</td>\n      <td>1</td>\n      <td>This &lt;a href=\"http://servicios.infoleg.gob.ar/...</td>\n      <td>f8c4af20ef7f8c0cf46e4802a3a41e93</td>\n      <td>2010-10-28 00:00:00</td>\n      <td>Argentina</td>\n      <td>Law</td>\n      <td>Law</td>\n      <td>English</td>\n    </tr>\n    <tr>\n      <th>2</th>\n      <td>2022-05-26 14:49:59.234792+00</td>\n      <td>NaN</td>\n      <td>10167</td>\n      <td>1</td>\n      <td>NaN</td>\n      <td>2022-05-25 17:26:01.049557+00</td>\n      <td>Law No. 12,114, of December 9, 2009</td>\n      <td>https://www.lse.ac.uk/GranthamInstitute/wp-con...</td>\n      <td>1</td>\n      <td>https://cpr-document-cache.s3.eu-west-2.amazon...</td>\n      <td>48</td>\n      <td>24</td>\n      <td>1</td>\n      <td>NFCC resources may be directed to REDD+ projec...</td>\n      <td>5faf1de60b28eb33f2b353beec778ea4</td>\n      <td>2009-01-01 00:00:00</td>\n      <td>Brazil</td>\n      <td>Law</td>\n      <td>Law</td>\n      <td>Portuguese</td>\n    </tr>\n    <tr>\n      <th>3</th>\n      <td>2022-05-26 14:49:58.893536+00</td>\n      <td>NaN</td>\n      <td>10163</td>\n      <td>1</td>\n      <td>NaN</td>\n      <td>2022-05-25 17:26:00.999398+00</td>\n      <td>Act relating to minimum nominal nominal volume...</td>\n      <td>https://www.lse.ac.uk/GranthamInstitute/wp-con...</td>\n      <td>1</td>\n      <td>https://cpr-document-cache.s3.eu-west-2.amazon...</td>\n      <td>34</td>\n      <td>24</td>\n      <td>1</td>\n      <td>The Act provides for companies that sell petro...</td>\n      <td>d342f40e7253aee03b6d920dd3341841</td>\n      <td>2013-01-01 00:00:00</td>\n      <td>Belgium</td>\n      <td>Law</td>\n      <td>Law</td>\n      <td>French</td>\n    </tr>\n    <tr>\n      <th>4</th>\n      <td>2022-05-26 14:49:59.323148+00</td>\n      <td>NaN</td>\n      <td>10168</td>\n      <td>1</td>\n      <td>NaN</td>\n      <td>2022-05-25 17:26:41.837879+00</td>\n      <td>Law no. 90-AN-15-7th L establishing the legisl...</td>\n      <td>https://climate-laws.org/rails/active_storage/...</td>\n      <td>1</td>\n      <td>https://cpr-document-cache.s3.eu-west-2.amazon...</td>\n      <td>98</td>\n      <td>24</td>\n      <td>1</td>\n      <td>This law establishes a framework legal framewo...</td>\n      <td>2df5fddee9f3eeef0b5f641997fa3262</td>\n      <td>2015-01-07 00:00:00</td>\n      <td>Djibouti</td>\n      <td>Law</td>\n      <td>Law</td>\n      <td>English</td>\n    </tr>\n  </tbody>\n</table>\n</div>"
     },
     "execution_count": 3,
     "metadata": {},
     "output_type": "execute_result"
    }
   ],
   "source": [
    "df.head()"
   ],
   "metadata": {
    "collapsed": false
   }
  },
  {
   "cell_type": "markdown",
   "source": [
    "# Download PDFs\n",
    "\n",
    "Set AWS credentials and download the PDFs for this dataset using the following commands.\n",
    "\n",
    "```\n",
    "aws s3 cp s3://cpr-document-cache cclw-pdfs --recursive\n",
    "mkdir pdfs\n",
    "find ./cclw-pdfs -name \"*.pdf\" -exec cp {} ./pdfs \\;\n",
    "rmdir -rf cclw-pdfs\n",
    "```"
   ],
   "metadata": {
    "collapsed": false
   }
  },
  {
   "cell_type": "code",
   "execution_count": 4,
   "outputs": [],
   "source": [
    "PDFS_PATH = \"pdfs\"\n",
    "df[\"pdf_filename\"] = df.url.str.split(\"/\").str[-1]\n",
    "df[\"pdf_path\"] = df[\"pdf_filename\"].apply(lambda x: os.path.join(PDFS_PATH, x))"
   ],
   "metadata": {
    "collapsed": false
   }
  },
  {
   "cell_type": "code",
   "execution_count": 5,
   "outputs": [],
   "source": [
    "pdfs = glob.glob(os.path.join(PDFS_PATH, \"*.pdf\"))"
   ],
   "metadata": {
    "collapsed": false
   }
  },
  {
   "cell_type": "markdown",
   "source": [
    "# Create PDF train and test-set"
   ],
   "metadata": {
    "collapsed": false
   }
  },
  {
   "cell_type": "code",
   "execution_count": 6,
   "outputs": [],
   "source": [
    "def pdf_no_pages(path: str) -> int:\n",
    "    doc = fitz.open(path)\n",
    "    return len(doc)\n",
    "\n",
    "\n",
    "def pdf_width_height(path: str) -> tuple:\n",
    "    try:\n",
    "        doc = fitz.open(path)\n",
    "        page = doc[0]\n",
    "\n",
    "        return page.rect.width, page.rect.height\n",
    "    except:\n",
    "        return (0, 0)\n",
    "\n",
    "\n",
    "# get a list of pdfs in pdfs folder\n",
    "pdfs = glob.glob(os.path.join(PDFS_PATH, \"*.pdf\"))\n",
    "df = df[df.pdf_path.isin(pdfs)]\n",
    "\n",
    "# Oddly, some of the PDFs are empty so loop through instead of using more pandorable approach.\n",
    "df[\"pdf_no_pages\"] = np.nan\n",
    "for ix, row in df.iterrows():\n",
    "    try:\n",
    "        n_pages = pdf_no_pages(row.pdf_path)\n",
    "    except EmptyFileError:\n",
    "        n_pages = 0\n",
    "        pass\n",
    "    df.loc[ix, \"pdf_no_pages\"] = n_pages\n"
   ],
   "metadata": {
    "collapsed": false
   }
  },
  {
   "cell_type": "code",
   "execution_count": 7,
   "outputs": [],
   "source": [
    "# Get some useful stats to stratify. We have metadata to go into more detail from the SQL query, but it's overkill.\n",
    "df[[\"pdf_width\", \"pdf_height\"]] = df[\"pdf_path\"].apply(\n",
    "    lambda x: pd.Series(pdf_width_height(x))\n",
    ")\n",
    "df[\"pdf_height_over_width\"] = df[\"pdf_height\"] / df[\"pdf_width\"]\n",
    "df[\"pdf_portrait_or_landscape\"] = (df[\"pdf_height_over_width\"] > 1).map(\n",
    "    {True: \"portrait\", False: \"landscape\"}\n",
    ")\n",
    "\n",
    "# bin page counts\n",
    "page_count_bins = [0, 20, 50, 100, 200, 2000]\n",
    "page_count_bin_labels = [\"0-20\", \"20-50\", \"50-100\", \"100-200\", \"200+\"]\n",
    "df[\"pdf_no_pages_binned\"] = pd.cut(\n",
    "    df[\"pdf_no_pages\"], bins=page_count_bins, labels=page_count_bin_labels\n",
    ")\n",
    "# drop rows where pdf_portrait_or_landscape or pdf_no_pages_binned is null\n",
    "df = df[(df.pdf_portrait_or_landscape.notnull()) & (df.pdf_no_pages_binned.notnull())]\n",
    "cols_stratify = [\"doc_category\", \"pdf_portrait_or_landscape\", \"pdf_no_pages_binned\"]\n",
    "\n",
    "df_train, df_test = train_test_split(\n",
    "    df, test_size=0.05, random_state=42, stratify=df[cols_stratify]\n",
    ")\n",
    "df[\"train_or_test\"] = \"\"\n",
    "df.loc[df_train.index, \"train_or_test\"] = \"train\"\n",
    "df.loc[df_test.index, \"train_or_test\"] = \"test\""
   ],
   "metadata": {
    "collapsed": false
   }
  },
  {
   "cell_type": "code",
   "execution_count": 8,
   "outputs": [
    {
     "name": "stdout",
     "output_type": "stream",
     "text": [
      "* doc_category *\n",
      "train_or_test  doc_category\n",
      "test           Policy          0.628205\n",
      "               Law             0.371795\n",
      "train          Policy          0.619469\n",
      "               Law             0.380531\n",
      "Name: doc_category, dtype: float64\n",
      "\n",
      "* pdf_portrait_or_landscape *\n",
      "train_or_test  pdf_portrait_or_landscape\n",
      "test           portrait                     0.974359\n",
      "               landscape                    0.025641\n",
      "train          portrait                     0.964602\n",
      "               landscape                    0.035398\n",
      "Name: pdf_portrait_or_landscape, dtype: float64\n",
      "\n",
      "* pdf_no_pages_binned *\n",
      "train_or_test  pdf_no_pages_binned\n",
      "test           0-20                   0.397436\n",
      "               20-50                  0.217949\n",
      "               50-100                 0.179487\n",
      "               100-200                0.141026\n",
      "               200+                   0.064103\n",
      "train          0-20                   0.402314\n",
      "               20-50                  0.210347\n",
      "               50-100                 0.179714\n",
      "               100-200                0.141593\n",
      "               200+                   0.066031\n",
      "Name: pdf_no_pages_binned, dtype: float64\n",
      "\n"
     ]
    }
   ],
   "source": [
    "# View stratification stats.\n",
    "for col in cols_stratify:\n",
    "    print(f\"* {col} *\")\n",
    "    print(df[col].groupby(df[\"train_or_test\"]).value_counts(normalize=True))\n",
    "    print()"
   ],
   "metadata": {
    "collapsed": false,
    "pycharm": {
     "name": "#%%for col in cols_stratify:\n"
    }
   }
  },
  {
   "cell_type": "code",
   "execution_count": 9,
   "outputs": [
    {
     "data": {
      "text/plain": "<AxesSubplot:ylabel='Frequency'>"
     },
     "execution_count": 9,
     "metadata": {},
     "output_type": "execute_result"
    },
    {
     "data": {
      "text/plain": "<Figure size 640x480 with 1 Axes>",
      "image/png": "[encoded data removed]"
     },
     "metadata": {},
     "output_type": "display_data"
    }
   ],
   "source": [
    "df.pdf_no_pages.plot(kind=\"hist\", bins=100)"
   ],
   "metadata": {
    "collapsed": false
   }
  },
  {
   "cell_type": "code",
   "execution_count": 10,
   "outputs": [
    {
     "data": {
      "text/plain": "<AxesSubplot:ylabel='Frequency'>"
     },
     "execution_count": 10,
     "metadata": {},
     "output_type": "execute_result"
    },
    {
     "data": {
      "text/plain": "<Figure size 640x480 with 1 Axes>",
      "image/png": "[encoded data removed]"
     },
     "metadata": {},
     "output_type": "display_data"
    }
   ],
   "source": [
    "df[df.train_or_test=='test'].pdf_no_pages.plot(kind=\"hist\", bins=100)"
   ],
   "metadata": {
    "collapsed": false
   }
  },
  {
   "cell_type": "markdown",
   "source": [
    "# Create Tasks for Debugging\n",
    "\n",
    "Create a set of JSON files conforming to the expected format of the PDF parser.\n",
    "- Note here that the url from the old csvs is renamed to come from the content delivery\n",
    "network instead of the cpr document cache, and spaces are replaced with + to conform to pydantic model. These URLS work in practice, so fine for debugging."
   ],
   "metadata": {
    "collapsed": false
   }
  },
  {
   "cell_type": "code",
   "execution_count": 11,
   "outputs": [
    {
     "name": "stderr",
     "output_type": "stream",
     "text": [
      "/tmp/ipykernel_1161444/3296468352.py:2: SettingWithCopyWarning: \n",
      "A value is trying to be set on a copy of a slice from a DataFrame\n",
      "\n",
      "See the caveats in the documentation: https://pandas.pydata.org/pandas-docs/stable/user_guide/indexing.html#returning-a-view-versus-a-copy\n",
      "  test_df.rename(columns={'pdf_filename': 'document_name', 'description':'document_description'}, inplace=True)\n",
      "/tmp/ipykernel_1161444/3296468352.py:3: SettingWithCopyWarning: \n",
      "A value is trying to be set on a copy of a slice from a DataFrame.\n",
      "Try using .loc[row_indexer,col_indexer] = value instead\n",
      "\n",
      "See the caveats in the documentation: https://pandas.pydata.org/pandas-docs/stable/user_guide/indexing.html#returning-a-view-versus-a-copy\n",
      "  test_df['content_type']='application/pdf'\n",
      "/tmp/ipykernel_1161444/3296468352.py:4: SettingWithCopyWarning: \n",
      "A value is trying to be set on a copy of a slice from a DataFrame.\n",
      "Try using .loc[row_indexer,col_indexer] = value instead\n",
      "\n",
      "See the caveats in the documentation: https://pandas.pydata.org/pandas-docs/stable/user_guide/indexing.html#returning-a-view-versus-a-copy\n",
      "  test_df['document_slug']='xyz'\n",
      "/tmp/ipykernel_1161444/3296468352.py:6: SettingWithCopyWarning: \n",
      "A value is trying to be set on a copy of a slice from a DataFrame.\n",
      "Try using .loc[row_indexer,col_indexer] = value instead\n",
      "\n",
      "See the caveats in the documentation: https://pandas.pydata.org/pandas-docs/stable/user_guide/indexing.html#returning-a-view-versus-a-copy\n",
      "  test_df_final['url'] = test_df_final['url'].str.replace(' ','+')\n",
      "/tmp/ipykernel_1161444/3296468352.py:7: FutureWarning: The default value of regex will change from True to False in a future version.\n",
      "  test_df_final['url'] = test_df_final['url'].str.replace('https://cpr-document-cache.s3.eu-west-2.amazonaws.com/','https://cdn.climatepolicyradar.org/')\n",
      "/tmp/ipykernel_1161444/3296468352.py:7: SettingWithCopyWarning: \n",
      "A value is trying to be set on a copy of a slice from a DataFrame.\n",
      "Try using .loc[row_indexer,col_indexer] = value instead\n",
      "\n",
      "See the caveats in the documentation: https://pandas.pydata.org/pandas-docs/stable/user_guide/indexing.html#returning-a-view-versus-a-copy\n",
      "  test_df_final['url'] = test_df_final['url'].str.replace('https://cpr-document-cache.s3.eu-west-2.amazonaws.com/','https://cdn.climatepolicyradar.org/')\n"
     ]
    }
   ],
   "source": [
    "test_df=df[df.train_or_test=='test']\n",
    "test_df.rename(columns={'pdf_filename': 'document_name', 'description':'document_description'}, inplace=True)\n",
    "test_df['content_type']='application/pdf'\n",
    "test_df['document_slug']='xyz'\n",
    "test_df_final = test_df[['id','url','document_name', 'document_description', 'content_type','document_slug']]\n",
    "test_df_final['url'] = test_df_final['url'].str.replace(' ','+')\n",
    "test_df_final['url'] = test_df_final['url'].str.replace('https://cpr-document-cache.s3.eu-west-2.amazonaws.com/','https://cdn.climatepolicyradar.org/')"
   ],
   "metadata": {
    "collapsed": false
   }
  },
  {
   "cell_type": "code",
   "execution_count": 12,
   "outputs": [],
   "source": [
    "import json\n",
    "from pathlib import Path\n",
    "\n",
    "in_path = Path(\"../data/raw\")\n",
    "for dict in test_df_final.to_dict(orient='records'):\n",
    "    out_path=in_path/f\"{str(dict['id'])}.json\"\n",
    "    with open(out_path,'w') as f:\n",
    "        json.dump(dict, f, indent=4)\n"
   ],
   "metadata": {
    "collapsed": false
   }
  },
  {
   "cell_type": "code",
   "execution_count": null,
   "outputs": [],
   "source": [],
   "metadata": {
    "collapsed": false
   }
  }
 ],
 "metadata": {
  "kernelspec": {
   "display_name": "Python 3",
   "language": "python",
   "name": "python3"
  },
  "language_info": {
   "codemirror_mode": {
    "name": "ipython",
    "version": 2
   },
   "file_extension": ".py",
   "mimetype": "text/x-python",
   "name": "python",
   "nbconvert_exporter": "python",
   "pygments_lexer": "ipython2",
   "version": "2.7.6"
  }
 },
 "nbformat": 4,
 "nbformat_minor": 0
}
